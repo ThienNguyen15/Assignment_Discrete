{
  "nbformat": 4,
  "nbformat_minor": 0,
  "metadata": {
    "colab": {
      "provenance": []
    },
    "kernelspec": {
      "name": "python3",
      "display_name": "Python 3"
    },
    "language_info": {
      "name": "python"
    }
  },
  "cells": [
    {
      "cell_type": "code",
      "execution_count": null,
      "metadata": {
        "colab": {
          "base_uri": "https://localhost:8080/"
        },
        "id": "pjgNK4_QUeR5",
        "outputId": "23189e72-954e-4abb-cba5-a60573511066"
      },
      "outputs": [
        {
          "output_type": "stream",
          "name": "stdout",
          "text": [
            "Looking in indexes: https://pypi.org/simple, https://us-python.pkg.dev/colab-wheels/public/simple/\n",
            "Requirement already satisfied: xlrd in /usr/local/lib/python3.8/dist-packages (1.1.0)\n",
            "Collecting xlrd\n",
            "  Downloading xlrd-2.0.1-py2.py3-none-any.whl (96 kB)\n",
            "\u001b[K     |████████████████████████████████| 96 kB 2.1 MB/s \n",
            "\u001b[?25hInstalling collected packages: xlrd\n",
            "  Attempting uninstall: xlrd\n",
            "    Found existing installation: xlrd 1.1.0\n",
            "    Uninstalling xlrd-1.1.0:\n",
            "      Successfully uninstalled xlrd-1.1.0\n",
            "Successfully installed xlrd-2.0.1\n",
            "Looking in indexes: https://pypi.org/simple, https://us-python.pkg.dev/colab-wheels/public/simple/\n",
            "Requirement already satisfied: pandas in /usr/local/lib/python3.8/dist-packages (1.3.5)\n",
            "Collecting pandas\n",
            "  Downloading pandas-1.5.2-cp38-cp38-manylinux_2_17_x86_64.manylinux2014_x86_64.whl (12.2 MB)\n",
            "\u001b[K     |████████████████████████████████| 12.2 MB 28 kB/s \n",
            "\u001b[?25hRequirement already satisfied: pytz>=2020.1 in /usr/local/lib/python3.8/dist-packages (from pandas) (2022.6)\n",
            "Requirement already satisfied: python-dateutil>=2.8.1 in /usr/local/lib/python3.8/dist-packages (from pandas) (2.8.2)\n",
            "Requirement already satisfied: numpy>=1.20.3 in /usr/local/lib/python3.8/dist-packages (from pandas) (1.21.6)\n",
            "Requirement already satisfied: six>=1.5 in /usr/local/lib/python3.8/dist-packages (from python-dateutil>=2.8.1->pandas) (1.15.0)\n",
            "Installing collected packages: pandas\n",
            "  Attempting uninstall: pandas\n",
            "    Found existing installation: pandas 1.3.5\n",
            "    Uninstalling pandas-1.3.5:\n",
            "      Successfully uninstalled pandas-1.3.5\n",
            "Successfully installed pandas-1.5.2\n",
            "Looking in indexes: https://pypi.org/simple, https://us-python.pkg.dev/colab-wheels/public/simple/\n",
            "Collecting vnstock\n",
            "  Downloading vnstock-0.1.0-py3-none-any.whl (14 kB)\n",
            "Installing collected packages: vnstock\n",
            "Successfully installed vnstock-0.1.0\n"
          ]
        }
      ],
      "source": [
        "!pip install --upgrade xlrd\n",
        "!pip install --upgrade pandas\n",
        "!pip install vnstock"
      ]
    },
    {
      "cell_type": "code",
      "source": [
        "import datetime\n",
        "import tensorflow as tf\n",
        "from tensorflow import keras\n",
        "from tensorflow.keras import layers\n",
        "import pandas as pd\n",
        "import matplotlib.pyplot as plt\n",
        "import numpy as np\n",
        "from sklearn.preprocessing import MinMaxScaler\n",
        "from sklearn.metrics import mean_absolute_error, mean_squared_error, r2_score"
      ],
      "metadata": {
        "id": "tAiJRdOFUiyk"
      },
      "execution_count": null,
      "outputs": []
    },
    {
      "cell_type": "code",
      "source": [
        "path = r\"/content/drive/MyDrive/Colab Notebooks/Data/data/strongest drop/APH.xlsx\"\n",
        "data = pd.read_excel(path)\n",
        "stock_data = data.loc[:129]\n",
        "stock_predict = data.loc[129:]\n",
        "feed_data = data.loc[129-40:128]"
      ],
      "metadata": {
        "id": "vGPIG-sEUlVf"
      },
      "execution_count": null,
      "outputs": []
    },
    {
      "cell_type": "code",
      "source": [
        "stock_data_raw = stock_data['Close'].interpolate(method='linear').copy()\n",
        "data_predict_raw = stock_predict['Close'].interpolate(method='linear').copy()\n",
        "data_values = stock_data_raw.values\n",
        "scaler = MinMaxScaler(feature_range=(0,1))\n",
        "scaled_data = scaler.fit_transform(data_values.reshape(-1,1))"
      ],
      "metadata": {
        "id": "vCKXIveLUpxt"
      },
      "execution_count": null,
      "outputs": []
    },
    {
      "cell_type": "code",
      "source": [
        "data_values = data_values.reshape(-1,1)"
      ],
      "metadata": {
        "id": "7UB5dnTFKXUM"
      },
      "execution_count": null,
      "outputs": []
    },
    {
      "cell_type": "code",
      "source": [
        "length_train = len(scaled_data)-20\n",
        "window = 40\n",
        "future_look = 20"
      ],
      "metadata": {
        "id": "lyVBR6IhUqwg"
      },
      "execution_count": null,
      "outputs": []
    },
    {
      "cell_type": "code",
      "source": [
        "feed_data = scaled_data[len(scaled_data)-window:]\n",
        "x_feed = []\n",
        "for i in range(0,int(len(feed_data))):\n",
        "  x_feed.append(feed_data[i,0])\n",
        "x_feed = np.array(x_feed)\n",
        "x_feed = np.reshape(x_feed, (1,x_feed.shape[0],1))"
      ],
      "metadata": {
        "id": "GjeRXvc7U6z8"
      },
      "execution_count": null,
      "outputs": []
    },
    {
      "cell_type": "code",
      "source": [
        "x_train = []\n",
        "y_train = []\n",
        "for i in range(window+future_look, len(scaled_data)):\n",
        "    x_train.append(scaled_data[i-window-future_look:i-future_look, 0])\n",
        "    y_train.append(scaled_data[i-future_look:i, 0])\n",
        "x_train, y_train = np.array(x_train), np.array(y_train)\n",
        "x_train = np.reshape(x_train, (x_train.shape[0], x_train.shape[1], 1))\n",
        "y_train = np.reshape(y_train, (y_train.shape[0], y_train.shape[1],1))"
      ],
      "metadata": {
        "id": "h0MOTAfxVTo_"
      },
      "execution_count": null,
      "outputs": []
    },
    {
      "cell_type": "code",
      "source": [
        "model = keras.Sequential()\n",
        "model.add(layers.LSTM(100, return_sequences=True, input_shape=(x_train.shape[1], 1)))\n",
        "model.add(layers.LSTM(100, return_sequences=False))\n",
        "model.add(layers.Dense(25))\n",
        "model.add(layers.Dense(20))\n",
        "model.summary()"
      ],
      "metadata": {
        "id": "7-2ZQ5JVU-WE",
        "colab": {
          "base_uri": "https://localhost:8080/"
        },
        "outputId": "2baea8b1-caa1-4c4a-9af8-f5cdd72154f0"
      },
      "execution_count": null,
      "outputs": [
        {
          "output_type": "stream",
          "name": "stdout",
          "text": [
            "Model: \"sequential\"\n",
            "_________________________________________________________________\n",
            " Layer (type)                Output Shape              Param #   \n",
            "=================================================================\n",
            " lstm (LSTM)                 (None, 40, 100)           40800     \n",
            "                                                                 \n",
            " lstm_1 (LSTM)               (None, 100)               80400     \n",
            "                                                                 \n",
            " dense (Dense)               (None, 25)                2525      \n",
            "                                                                 \n",
            " dense_1 (Dense)             (None, 20)                520       \n",
            "                                                                 \n",
            "=================================================================\n",
            "Total params: 124,245\n",
            "Trainable params: 124,245\n",
            "Non-trainable params: 0\n",
            "_________________________________________________________________\n"
          ]
        }
      ]
    },
    {
      "cell_type": "code",
      "source": [
        "model.compile(optimizer='adam', loss='mean_squared_error')\n",
        "model.fit(x_train, y_train, batch_size= 1, epochs=3)"
      ],
      "metadata": {
        "id": "TpjsEILFVX3V",
        "colab": {
          "base_uri": "https://localhost:8080/"
        },
        "outputId": "97b5e7ae-f10b-4e07-d242-d8cb4be55dbf"
      },
      "execution_count": null,
      "outputs": [
        {
          "output_type": "stream",
          "name": "stdout",
          "text": [
            "Epoch 1/3\n",
            "70/70 [==============================] - 8s 53ms/step - loss: 0.0319\n",
            "Epoch 2/3\n",
            "70/70 [==============================] - 4s 50ms/step - loss: 0.0198\n",
            "Epoch 3/3\n",
            "70/70 [==============================] - 3s 45ms/step - loss: 0.0158\n"
          ]
        },
        {
          "output_type": "execute_result",
          "data": {
            "text/plain": [
              "<keras.callbacks.History at 0x7fe083c2ff70>"
            ]
          },
          "metadata": {},
          "execution_count": 10
        }
      ]
    },
    {
      "cell_type": "code",
      "source": [
        "def future_predict(length, predict = model.predict, feed = x_feed):\n",
        "  y_future = []\n",
        "  for i in range(0, length, 20):\n",
        "    y = predict(feed)\n",
        "    y_future = np.append(y_future,y[0])\n",
        "    new_feed = np.append(x_feed[0],y[0])\n",
        "    new_feed = new_feed[20:]\n",
        "    feed = np.reshape(new_feed, (1, new_feed.shape[0],1))\n",
        "  return y_future"
      ],
      "metadata": {
        "id": "uRVR5NI8VZ5D"
      },
      "execution_count": null,
      "outputs": []
    },
    {
      "cell_type": "code",
      "source": [
        "future = future_predict(57)"
      ],
      "metadata": {
        "colab": {
          "base_uri": "https://localhost:8080/"
        },
        "id": "5wQUorvmVyaW",
        "outputId": "62c58006-a3e6-4d03-ea71-ae955776ade0"
      },
      "execution_count": null,
      "outputs": [
        {
          "output_type": "stream",
          "name": "stdout",
          "text": [
            "1/1 [==============================] - 2s 2s/step\n",
            "1/1 [==============================] - 0s 50ms/step\n",
            "1/1 [==============================] - 0s 56ms/step\n"
          ]
        }
      ]
    },
    {
      "cell_type": "code",
      "source": [
        "future = np.reshape(future, (future.shape[0],1))\n",
        "rescaled_future = scaler.inverse_transform(future)"
      ],
      "metadata": {
        "id": "q2RuzuGEW59A"
      },
      "execution_count": null,
      "outputs": []
    },
    {
      "cell_type": "code",
      "source": [
        "stock_predict_frame = pd.DataFrame(stock_predict['Close'].to_numpy(),index=stock_predict['Date'], columns = ['Close'])\n",
        "future_data_frame = pd.DataFrame(rescaled_future, index=stock_predict['Date'], columns = ['Close'])\n",
        "stock_data_frame = pd.DataFrame(stock_data['Close'].to_numpy(), index=stock_data['Date'], columns = ['Close'])"
      ],
      "metadata": {
        "id": "XbGhExxbOtBr"
      },
      "execution_count": null,
      "outputs": []
    },
    {
      "cell_type": "code",
      "source": [
        "plt.figure(figsize=(16,8))\n",
        "plt.title('APH')\n",
        "plt.xlabel('Date')\n",
        "plt.ylabel('Close Price USD ($)')\n",
        "plt.plot(future_data_frame, color='green', label='Predict')\n",
        "plt.plot(stock_predict_frame, color='red', label='Actual')\n",
        "plt.plot(stock_data_frame, color='blue', label = 'Train')\n",
        "plt.legend(loc='upper left', shadow=False, fontsize='x-large')"
      ],
      "metadata": {
        "colab": {
          "base_uri": "https://localhost:8080/",
          "height": 530
        },
        "id": "lARAGu6nMEmY",
        "outputId": "0c3a1b3d-7524-47d0-d1b9-b0795f86c7e5"
      },
      "execution_count": null,
      "outputs": [
        {
          "output_type": "execute_result",
          "data": {
            "text/plain": [
              "<matplotlib.legend.Legend at 0x7fe083a3d550>"
            ]
          },
          "metadata": {},
          "execution_count": 18
        },
        {
          "output_type": "display_data",
          "data": {
            "text/plain": [
              "<Figure size 1152x576 with 1 Axes>"
            ],
            "image/png": "[encoded data removed]"
          },
          "metadata": {
            "needs_background": "light"
          }
        }
      ]
    },
    {
      "cell_type": "code",
      "source": [
        "mae = mean_absolute_error(stock_predict_frame['Close'].to_numpy(),future_data_frame['Close'].to_numpy())"
      ],
      "metadata": {
        "id": "3hfeG4z30L1_"
      },
      "execution_count": null,
      "outputs": []
    },
    {
      "cell_type": "code",
      "source": [
        "print(mae)"
      ],
      "metadata": {
        "colab": {
          "base_uri": "https://localhost:8080/"
        },
        "id": "Cl556qh502Zh",
        "outputId": "456e3408-5233-4a55-c4e0-673832d5e218"
      },
      "execution_count": null,
      "outputs": [
        {
          "output_type": "stream",
          "name": "stdout",
          "text": [
            "4236.297441263997\n"
          ]
        }
      ]
    }
  ]
}